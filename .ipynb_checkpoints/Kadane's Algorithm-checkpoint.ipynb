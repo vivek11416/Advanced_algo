{
 "cells": [
  {
   "cell_type": "markdown",
   "id": "69ca85f8",
   "metadata": {},
   "source": [
    "# Brute Force O(n^2)"
   ]
  },
  {
   "cell_type": "code",
   "execution_count": 1,
   "id": "95a74d90",
   "metadata": {},
   "outputs": [],
   "source": [
    "# [4 , -1 , 2 , -7 , 3 , 4]\n",
    "def bruteForce(nums):\n",
    "    maxSum = nums[0]\n",
    "    \n",
    "    for i in range(len(nums)):\n",
    "        curSum = 0\n",
    "        for j in range(i,len(nums)):\n",
    "            curSum +=nums[j]\n",
    "            maxSum = max(maxSum,curSum)\n",
    "    return maxSum"
   ]
  },
  {
   "cell_type": "markdown",
   "id": "07497eb7",
   "metadata": {},
   "source": [
    "# Kadane's Algo O(n)\n"
   ]
  },
  {
   "cell_type": "code",
   "execution_count": 2,
   "id": "378f230d",
   "metadata": {},
   "outputs": [],
   "source": [
    "def kadanes(nums):\n",
    "    maxSum = nums[0]\n",
    "    curSum = 0\n",
    "    \n",
    "    for n in nums:\n",
    "        curSum = max(curSum,0)\n",
    "        curSum += n\n",
    "        maxSum = max(maxSum,curSum)\n",
    "    return maxSum"
   ]
  },
  {
   "cell_type": "code",
   "execution_count": null,
   "id": "007f2741",
   "metadata": {},
   "outputs": [],
   "source": []
  }
 ],
 "metadata": {
  "kernelspec": {
   "display_name": "Python 3 (ipykernel)",
   "language": "python",
   "name": "python3"
  },
  "language_info": {
   "codemirror_mode": {
    "name": "ipython",
    "version": 3
   },
   "file_extension": ".py",
   "mimetype": "text/x-python",
   "name": "python",
   "nbconvert_exporter": "python",
   "pygments_lexer": "ipython3",
   "version": "3.9.12"
  }
 },
 "nbformat": 4,
 "nbformat_minor": 5
}
